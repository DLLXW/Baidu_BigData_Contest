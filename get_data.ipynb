{
 "cells": [
  {
   "cell_type": "code",
   "execution_count": null,
   "metadata": {},
   "outputs": [],
   "source": [
    "#由于数据量巨大，如果句这样处理，在服务器上面都得处理可能50h\n",
    "#所以将40000条数据分成了8份，复制8个.py文件并行的处理，效率有很大提高"
   ]
  },
  {
   "cell_type": "code",
   "execution_count": 3,
   "metadata": {
    "collapsed": true
   },
   "outputs": [],
   "source": [
    "import os\n",
    "from collections import Counter\n",
    "from datetime import datetime\n",
    "import csv"
   ]
  },
  {
   "cell_type": "code",
   "execution_count": 4,
   "metadata": {
    "collapsed": true
   },
   "outputs": [],
   "source": [
    "#将.txt数据处理成为csv数据，对星期x和一天24小时都进行了进一步分段处理（也可以不分段）\n",
    "def get_data_into_csv(rpath,wpath):\n",
    "    files=os.listdir(rpath)\n",
    "    labels=[]\n",
    "    c=0\n",
    "    for file in files:\n",
    "        label=int(file[-5])\n",
    "        labels.append(label)\n",
    "        r=open(os.path.join(rpath,file),'r')\n",
    "        #w=open(wpath,'w')\n",
    "        datas=r.readlines()\n",
    "        l=len(datas)\n",
    "        weekend=0\n",
    "        weekday=0\n",
    "        d1=0\n",
    "        d2=0\n",
    "        d3=0\n",
    "        d4=0\n",
    "        week=[]\n",
    "        hour=[]\n",
    "        for data in datas:\n",
    "            datalist=data[17:].strip('').split(',')\n",
    "            #print(datalist)\n",
    "            for per in datalist:\n",
    "                #per.strip('\\n')\n",
    "                week.append(per[:8])\n",
    "                hour=hour+per[9:].split('|')\n",
    "        for k in week:\n",
    "            t=datetime.strptime(k,\"%Y%m%d\").weekday()\n",
    "            if t==0 or t==6:\n",
    "                weekend=weekend+1\n",
    "            else:\n",
    "                weekday=weekday+1\n",
    "        #print(weekend,weekday)\n",
    "        for i in range(len(hour)):\n",
    "            hour[i]=hour[i].strip('\\n')\n",
    "        hour=list(map(int, hour))\n",
    "        for h in hour:\n",
    "            if h>0 and h<7:\n",
    "                d1=d1+1\n",
    "            elif h>6 and h<13:\n",
    "                d2=d2+1\n",
    "            elif h>12 and h<19:\n",
    "                d3=d3+1\n",
    "            else:\n",
    "                d4=d4+1\n",
    "        #print(l,weekend,weekday,d1,d2,d3,d4)\n",
    "        templist=[label,l,weekend,weekday,d1,d2,d3,d4]\n",
    "\n",
    "        out = open(wpath,'a', newline='')\n",
    "        #设定写入模式\n",
    "        csv_write = csv.writer(out,dialect='excel')\n",
    "        #写入具体内容\n",
    "        csv_write.writerow(templist)\n",
    "        c=c+1\n",
    "        print(c)\n",
    "        #out.close\n",
    "    print('Finished')\n",
    "    out.close()\n",
    "    #w=open('./data/label.txt','w')\n",
    "    w.write(str(labels))\n",
    "    w.close()\n",
    "    "
   ]
  },
  {
   "cell_type": "code",
   "execution_count": 1,
   "metadata": {},
   "outputs": [],
   "source": [
    "get_data_into_csv('xxx','xxx') #结合自己的文件路径改写和自己习惯命名"
   ]
  },
  {
   "cell_type": "code",
   "execution_count": null,
   "metadata": {},
   "outputs": [],
   "source": [
    "#以上为处理.txt文件数据，并以.csv文件存储的代码"
   ]
  },
  {
   "cell_type": "code",
   "execution_count": null,
   "metadata": {},
   "outputs": [],
   "source": [
    "#以下的代码是为了提高处理效率，堆数据分成了好几份。data11,data12....都是处理好的数据，下面的代码是作一个合并。"
   ]
  },
  {
   "cell_type": "code",
   "execution_count": 1,
   "metadata": {},
   "outputs": [],
   "source": [
    "import pandas as pd\n",
    "import numpy as np"
   ]
  },
  {
   "cell_type": "code",
   "execution_count": 2,
   "metadata": {},
   "outputs": [],
   "source": [
    "train11 = pd.read_csv('./data/data11.csv')\n",
    "train12 = pd.read_csv('./data/data12.csv')\n",
    "train21 = pd.read_csv('./data/data21.csv')\n",
    "train22 = pd.read_csv('./data/data22.csv')\n",
    "train31 = pd.read_csv('./data/data31.csv')\n",
    "train32 = pd.read_csv('./data/data32.csv')\n",
    "train41 = pd.read_csv('./data/data41.csv')\n",
    "train42 = pd.read_csv('./data/data42.csv')"
   ]
  },
  {
   "cell_type": "code",
   "execution_count": 3,
   "metadata": {},
   "outputs": [],
   "source": [
    "aa=train11.append(train12)"
   ]
  },
  {
   "cell_type": "code",
   "execution_count": 4,
   "metadata": {},
   "outputs": [
    {
     "data": {
      "text/plain": [
       "(10001, 8)"
      ]
     },
     "execution_count": 4,
     "metadata": {},
     "output_type": "execute_result"
    }
   ],
   "source": [
    "aa.shape"
   ]
  },
  {
   "cell_type": "code",
   "execution_count": 5,
   "metadata": {},
   "outputs": [],
   "source": [
    "data_total=pd.concat([train11, train12,train21,train22,train31,train32,train41,train42],axis=0)"
   ]
  },
  {
   "cell_type": "code",
   "execution_count": 6,
   "metadata": {},
   "outputs": [
    {
     "data": {
      "text/plain": [
       "(40001, 8)"
      ]
     },
     "execution_count": 6,
     "metadata": {},
     "output_type": "execute_result"
    }
   ],
   "source": [
    "data_total.shape"
   ]
  },
  {
   "cell_type": "code",
   "execution_count": 7,
   "metadata": {},
   "outputs": [
    {
     "data": {
      "text/plain": [
       "((5012, 8),\n",
       " (4989, 8),\n",
       " (6482, 8),\n",
       " (3524, 8),\n",
       " (5278, 8),\n",
       " (4872, 8),\n",
       " (5670, 8),\n",
       " (4174, 8))"
      ]
     },
     "execution_count": 7,
     "metadata": {},
     "output_type": "execute_result"
    }
   ],
   "source": [
    "train11.shape,train12.shape,train21.shape,train22.shape,train31.shape,train32.shape,train41.shape,train42.shape"
   ]
  },
  {
   "cell_type": "code",
   "execution_count": 9,
   "metadata": {},
   "outputs": [
    {
     "data": {
      "text/html": [
       "<div>\n",
       "<style scoped>\n",
       "    .dataframe tbody tr th:only-of-type {\n",
       "        vertical-align: middle;\n",
       "    }\n",
       "\n",
       "    .dataframe tbody tr th {\n",
       "        vertical-align: top;\n",
       "    }\n",
       "\n",
       "    .dataframe thead th {\n",
       "        text-align: right;\n",
       "    }\n",
       "</style>\n",
       "<table border=\"1\" class=\"dataframe\">\n",
       "  <thead>\n",
       "    <tr style=\"text-align: right;\">\n",
       "      <th></th>\n",
       "      <th>label</th>\n",
       "      <th>num</th>\n",
       "      <th>weekend</th>\n",
       "      <th>weekday</th>\n",
       "      <th>h1</th>\n",
       "      <th>h2</th>\n",
       "      <th>h3</th>\n",
       "      <th>h4</th>\n",
       "    </tr>\n",
       "  </thead>\n",
       "  <tbody>\n",
       "    <tr>\n",
       "      <th>0</th>\n",
       "      <td>5</td>\n",
       "      <td>21952</td>\n",
       "      <td>23341</td>\n",
       "      <td>59412</td>\n",
       "      <td>37163</td>\n",
       "      <td>48282</td>\n",
       "      <td>55269</td>\n",
       "      <td>47585</td>\n",
       "    </tr>\n",
       "    <tr>\n",
       "      <th>1</th>\n",
       "      <td>1</td>\n",
       "      <td>218</td>\n",
       "      <td>723</td>\n",
       "      <td>1549</td>\n",
       "      <td>1600</td>\n",
       "      <td>3013</td>\n",
       "      <td>3290</td>\n",
       "      <td>3205</td>\n",
       "    </tr>\n",
       "    <tr>\n",
       "      <th>2</th>\n",
       "      <td>2</td>\n",
       "      <td>220</td>\n",
       "      <td>445</td>\n",
       "      <td>1243</td>\n",
       "      <td>526</td>\n",
       "      <td>2141</td>\n",
       "      <td>1953</td>\n",
       "      <td>877</td>\n",
       "    </tr>\n",
       "  </tbody>\n",
       "</table>\n",
       "</div>"
      ],
      "text/plain": [
       "   label    num  weekend  weekday     h1     h2     h3     h4\n",
       "0      5  21952    23341    59412  37163  48282  55269  47585\n",
       "1      1    218      723     1549   1600   3013   3290   3205\n",
       "2      2    220      445     1243    526   2141   1953    877"
      ]
     },
     "execution_count": 9,
     "metadata": {},
     "output_type": "execute_result"
    }
   ],
   "source": [
    "data_total.head(3) "
   ]
  },
  {
   "cell_type": "code",
   "execution_count": 26,
   "metadata": {},
   "outputs": [],
   "source": [
    "#data_total.to_csv('./data/total_data.csv',index=False)"
   ]
  },
  {
   "cell_type": "code",
   "execution_count": null,
   "metadata": {},
   "outputs": [],
   "source": []
  }
 ],
 "metadata": {
  "kernelspec": {
   "display_name": "Python 3",
   "language": "python",
   "name": "python3"
  },
  "language_info": {
   "codemirror_mode": {
    "name": "ipython",
    "version": 3
   },
   "file_extension": ".py",
   "mimetype": "text/x-python",
   "name": "python",
   "nbconvert_exporter": "python",
   "pygments_lexer": "ipython3",
   "version": "3.5.5"
  }
 },
 "nbformat": 4,
 "nbformat_minor": 2
}
