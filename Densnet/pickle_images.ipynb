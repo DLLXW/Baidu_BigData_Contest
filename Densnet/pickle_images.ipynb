{
 "cells": [
  {
   "cell_type": "code",
   "execution_count": 7,
   "metadata": {},
   "outputs": [],
   "source": [
    "import pickle\n",
    "import os\n",
    "import cv2\n",
    "import numpy as np"
   ]
  },
  {
   "cell_type": "code",
   "execution_count": 18,
   "metadata": {},
   "outputs": [],
   "source": [
    "def pickle_data(path):\n",
    "        dic={'data':0,'label':0}\n",
    "        img_names=os.listdir(path)\n",
    "        data=cv2.imread(os.path.join(path,img_names[0])).reshape(1,30000)\n",
    "        label=np.zeros((32000,)) #\n",
    "        label[0]=int(img_names[0][-5])-1\n",
    "        for i in range(1,len(img_names)):\n",
    "            label[i]=int(img_names[i][-5])-1\n",
    "            img_path=os.path.join(path,img_names[i])\n",
    "            img=cv2.imread(img_path).reshape(1,30000)\n",
    "            data=np.concatenate((data,img),axis=0)\n",
    "        dic['data']=data\n",
    "        dic['label']=label\n",
    "        with open('./train.pkl', 'wb') as f:\n",
    "            pickle.dump(dic, f)\n",
    "        "
   ]
  },
  {
   "cell_type": "code",
   "execution_count": 19,
   "metadata": {},
   "outputs": [],
   "source": [
    "pickle_data('xxx/train_images')"
   ]
  },
  {
   "cell_type": "code",
   "execution_count": 23,
   "metadata": {},
   "outputs": [],
   "source": [
    "with open('./train_data.pkl', 'rb') as f:\n",
    "    aa = pickle.load(f)\n",
    "    print(aa['data'].shape)\n",
    "    #print(type(aa))  # <class 'dict'>"
   ]
  },
  {
   "cell_type": "code",
   "execution_count": null,
   "metadata": {},
   "outputs": [],
   "source": []
  }
 ],
 "metadata": {
  "kernelspec": {
   "display_name": "Python 3",
   "language": "python",
   "name": "python3"
  },
  "language_info": {
   "codemirror_mode": {
    "name": "ipython",
    "version": 3
   },
   "file_extension": ".py",
   "mimetype": "text/x-python",
   "name": "python",
   "nbconvert_exporter": "python",
   "pygments_lexer": "ipython3",
   "version": "3.5.5"
  }
 },
 "nbformat": 4,
 "nbformat_minor": 2
}
